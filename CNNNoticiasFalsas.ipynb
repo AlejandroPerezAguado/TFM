{
  "nbformat": 4,
  "nbformat_minor": 0,
  "metadata": {
    "colab": {
      "provenance": [],
      "toc_visible": true
    },
    "kernelspec": {
      "name": "python3",
      "display_name": "Python 3"
    },
    "language_info": {
      "name": "python"
    }
  },
  "cells": [
    {
      "cell_type": "markdown",
      "source": [
        "Enfoque del dataset de noticias falsas basado en BiLSTM (CNN)"
      ],
      "metadata": {
        "id": "medIFedU3eIU"
      }
    },
    {
      "cell_type": "code",
      "execution_count": 10,
      "metadata": {
        "id": "19ZX_DGO3T9p"
      },
      "outputs": [],
      "source": [
        "### IMPORTS ###\n",
        "import pandas as pd\n",
        "import numpy as np\n",
        "import matplotlib.pyplot as plt\n",
        "\n",
        "from sklearn.preprocessing import LabelEncoder\n",
        "from keras.preprocessing.text import Tokenizer\n",
        "from keras.utils import pad_sequences\n",
        "\n",
        "import tensorflow as tf\n",
        "from keras.models import Sequential\n",
        "from keras.layers import Flatten, Dense, Embedding, Conv1D, MaxPooling1D\n",
        "\n",
        "from keras.callbacks import ModelCheckpoint, EarlyStopping\n",
        "from keras.utils import to_categorical\n",
        "\n",
        "from sklearn.metrics import accuracy_score, classification_report \n",
        "from sklearn.metrics import confusion_matrix, ConfusionMatrixDisplay"
      ]
    },
    {
      "cell_type": "markdown",
      "source": [
        "# Cargar Dataset"
      ],
      "metadata": {
        "id": "Lc9G7pDEf480"
      }
    },
    {
      "cell_type": "code",
      "source": [
        "### DRIVE DATA ###\n",
        "from google.colab import drive\n",
        "\n",
        "drive.mount('/content/drive', force_remount=True)\n",
        "PATH = \"/content/drive/My Drive/TFM/Data/FakeNews_Task3_2022/\""
      ],
      "metadata": {
        "colab": {
          "base_uri": "https://localhost:8080/"
        },
        "id": "E6vRetQ0f6oT",
        "outputId": "2c20281f-729b-40f4-aaaa-5128240abb3c"
      },
      "execution_count": 2,
      "outputs": [
        {
          "output_type": "stream",
          "name": "stdout",
          "text": [
            "Mounted at /content/drive\n"
          ]
        }
      ]
    },
    {
      "cell_type": "code",
      "source": [
        "### CONJUNTOS DE ENTRENAMIENTO, VALIDACIÓN Y TEST ###\n",
        "df_train = pd.read_csv(PATH + \"Task3_train_dev/Task3_english_training.csv\") \n",
        "df_train = df_train[['text', 'our rating']]\n",
        "df_train = df_train.rename(columns = {\"text\": \"Text\", \"our rating\": \"Label\"})\n",
        "\n",
        "df_dev = pd.read_csv(PATH + \"Task3_train_dev/Task3_english_dev.csv\") \n",
        "df_dev = df_dev[['text', 'our ratinge']]\n",
        "df_dev = df_dev.rename(columns = {\"text\": \"Text\", \"our ratinge\": \"Label\"})\n",
        "\n",
        "df_test = pd.read_csv(PATH + \"Task3_Test/English_data_test_release_with_rating.csv\") \n",
        "df_test = df_test[['text', 'our rating']]\n",
        "df_test = df_test.rename(columns = {\"text\": \"Text\", \"our rating\": \"Label\"})\n",
        "\n",
        "print('Tamaño Conjunto de Entrenamiento:', len(df_train['Label']))\n",
        "print('Tamaño Conjunto de Validación:', len(df_dev['Label']))\n",
        "print('Tamaño Conjunto de Evaluación:', len(df_test['Label']))"
      ],
      "metadata": {
        "colab": {
          "base_uri": "https://localhost:8080/"
        },
        "id": "1HVudGvtf7YE",
        "outputId": "413d29ac-bd39-487e-ef9e-61b41704d3c9"
      },
      "execution_count": 3,
      "outputs": [
        {
          "output_type": "stream",
          "name": "stdout",
          "text": [
            "Tamaño Conjunto de Entrenamiento: 900\n",
            "Tamaño Conjunto de Validación: 364\n",
            "Tamaño Conjunto de Evaluación: 612\n"
          ]
        }
      ]
    },
    {
      "cell_type": "markdown",
      "source": [
        "# Label Encoding"
      ],
      "metadata": {
        "id": "1wQSv8XOgCJ6"
      }
    },
    {
      "cell_type": "code",
      "source": [
        "### LABEL ENCODING ###\n",
        "y_train = df_train['Label'].tolist()\n",
        "y_val = df_dev['Label'].tolist()\n",
        "y_test = df_test['Label'].tolist()\n",
        "\n",
        "LABELS = sorted(set(y_train))\n",
        "NUM_LABELS = len(LABELS)\n",
        "\n",
        "idx2label={}\n",
        "label2idx={}\n",
        "for index, label in enumerate(LABELS):\n",
        "    label2idx.update([(label, index)])\n",
        "    idx2label.update([(index, label)])\n",
        "\n",
        "print('Labels:', label2idx)\n",
        "le = LabelEncoder()\n",
        "\n",
        "y_train = le.fit_transform(y_train)\n",
        "y_train_cat = to_categorical(y_train)\n",
        "y_val = le.fit_transform(y_val)\n",
        "y_val_cat = to_categorical(y_val)\n",
        "y_test = le.fit_transform(y_test)\n",
        "y_test_cat = to_categorical(y_test)"
      ],
      "metadata": {
        "colab": {
          "base_uri": "https://localhost:8080/"
        },
        "id": "SwiALGT0gDnu",
        "outputId": "1e129e82-a28b-4797-8cd0-30c85e658622"
      },
      "execution_count": 4,
      "outputs": [
        {
          "output_type": "stream",
          "name": "stdout",
          "text": [
            "Labels: {'False': 0, 'Other': 1, 'Partially false': 2, 'True': 3}\n"
          ]
        }
      ]
    },
    {
      "cell_type": "markdown",
      "source": [
        "# Tokenización"
      ],
      "metadata": {
        "id": "vPjEAAPygOq8"
      }
    },
    {
      "cell_type": "code",
      "source": [
        "X_train = list(df_train['Text'])\n",
        "X_val = list(df_dev['Text'])\n",
        "X_test = list(df_test['Text'])\n",
        "\n",
        "tokenizer = Tokenizer(oov_token = True)\n",
        "# entrenamos el tokenizador usando los textos del conjunto de entrenamiento\n",
        "tokenizer.fit_on_texts(X_train)\n",
        "\n",
        "# el índice 0, en principio, no ha sido asignado a ningún token y está reservado\n",
        "# en nuestro caso, lo usamos para representar el token para padding\n",
        "tokenizer.word_index[''] = 0\n",
        "\n",
        "NUM_WORDS=len(tokenizer.word_index)\n",
        "print(\"Tamaño del vocabulario = {}\".format(NUM_WORDS))\n",
        "\n",
        "encoded_train = tokenizer.texts_to_sequences(X_train)\n",
        "encoded_val = tokenizer.texts_to_sequences(X_val)\n",
        "encoded_test = tokenizer.texts_to_sequences(X_test)"
      ],
      "metadata": {
        "colab": {
          "base_uri": "https://localhost:8080/"
        },
        "id": "rJfgUCczgQL7",
        "outputId": "da1dcae5-1e82-4c28-e253-574663948a37"
      },
      "execution_count": 5,
      "outputs": [
        {
          "output_type": "stream",
          "name": "stdout",
          "text": [
            "Tamaño del vocabulario = 33432\n"
          ]
        }
      ]
    },
    {
      "cell_type": "code",
      "source": [
        "# Análisis de Longitud #\n",
        "df_train['Length'] = df_train['Text'].apply(lambda text: len(text.split()))\n",
        "df_train['Length'].describe(percentiles=[0.25, 0.50, 0.75, 0.90, 0.95, 0.99])"
      ],
      "metadata": {
        "colab": {
          "base_uri": "https://localhost:8080/"
        },
        "id": "pXp32kTtbCYS",
        "outputId": "c24de764-ea86-4f40-b3d5-4b08877938cd"
      },
      "execution_count": 6,
      "outputs": [
        {
          "output_type": "execute_result",
          "data": {
            "text/plain": [
              "count     900.000000\n",
              "mean      685.137778\n",
              "std       764.336155\n",
              "min         4.000000\n",
              "25%       276.750000\n",
              "50%       492.500000\n",
              "75%       806.750000\n",
              "90%      1289.300000\n",
              "95%      2070.350000\n",
              "99%      4752.990000\n",
              "max      5816.000000\n",
              "Name: Length, dtype: float64"
            ]
          },
          "metadata": {},
          "execution_count": 6
        }
      ]
    },
    {
      "cell_type": "code",
      "source": [
        "MAX_LEN = 2071\n",
        "\n",
        "encoded_train = pad_sequences(encoded_train, maxlen = MAX_LEN, padding='post')\n",
        "encoded_val = pad_sequences(encoded_val, maxlen = MAX_LEN, padding='post')\n",
        "encoded_test = pad_sequences(encoded_test, maxlen = MAX_LEN, padding='post')"
      ],
      "metadata": {
        "id": "uAoUMuxbdJhm"
      },
      "execution_count": 7,
      "outputs": []
    },
    {
      "cell_type": "markdown",
      "source": [
        "# CNN"
      ],
      "metadata": {
        "id": "1WJqnfEedki0"
      }
    },
    {
      "cell_type": "code",
      "source": [
        "EMBEDDING_SIZE=200\n",
        "model = Sequential()\n",
        "\n",
        "model.add(Embedding(NUM_WORDS, EMBEDDING_SIZE, input_length=MAX_LEN))\n",
        "model.add(Conv1D(filters=128, kernel_size=4, padding='same', activation='relu'))\n",
        "model.add(MaxPooling1D(pool_size=2))\n",
        "\n",
        "model.add(Conv1D(filters=64, kernel_size=3, padding='same', activation='relu'))\n",
        "model.add(MaxPooling1D(pool_size=2))\n",
        "\n",
        "model.add(Conv1D(filters=32, kernel_size=2, padding='same', activation='relu'))\n",
        "model.add(MaxPooling1D(pool_size=2))\n",
        "\n",
        "model.add(Flatten())\n",
        "model.add(Dense(256, activation='relu'))\n",
        "model.add(Dense(NUM_LABELS, activation='softmax'))\n",
        "model.compile(loss='categorical_crossentropy', optimizer='adam', metrics=['accuracy'])\n",
        "\n",
        "model.summary()\n",
        "\n",
        "# Stop training when a monitored quantity has stopped improving.\n",
        "earlyStopping = EarlyStopping(monitor='val_loss', min_delta=0, patience=3, verbose=0, mode='auto')"
      ],
      "metadata": {
        "colab": {
          "base_uri": "https://localhost:8080/"
        },
        "id": "wBVyi8JTdmV-",
        "outputId": "cbb9a87e-b9ab-4a9f-fe20-7ba8036d9095"
      },
      "execution_count": 8,
      "outputs": [
        {
          "output_type": "stream",
          "name": "stdout",
          "text": [
            "Model: \"sequential\"\n",
            "_________________________________________________________________\n",
            " Layer (type)                Output Shape              Param #   \n",
            "=================================================================\n",
            " embedding (Embedding)       (None, 2071, 200)         6686400   \n",
            "                                                                 \n",
            " conv1d (Conv1D)             (None, 2071, 128)         102528    \n",
            "                                                                 \n",
            " max_pooling1d (MaxPooling1D  (None, 1035, 128)        0         \n",
            " )                                                               \n",
            "                                                                 \n",
            " conv1d_1 (Conv1D)           (None, 1035, 64)          24640     \n",
            "                                                                 \n",
            " max_pooling1d_1 (MaxPooling  (None, 517, 64)          0         \n",
            " 1D)                                                             \n",
            "                                                                 \n",
            " conv1d_2 (Conv1D)           (None, 517, 32)           4128      \n",
            "                                                                 \n",
            " max_pooling1d_2 (MaxPooling  (None, 258, 32)          0         \n",
            " 1D)                                                             \n",
            "                                                                 \n",
            " flatten (Flatten)           (None, 8256)              0         \n",
            "                                                                 \n",
            " dense (Dense)               (None, 256)               2113792   \n",
            "                                                                 \n",
            " dense_1 (Dense)             (None, 4)                 1028      \n",
            "                                                                 \n",
            "=================================================================\n",
            "Total params: 8,932,516\n",
            "Trainable params: 8,932,516\n",
            "Non-trainable params: 0\n",
            "_________________________________________________________________\n"
          ]
        }
      ]
    },
    {
      "cell_type": "markdown",
      "source": [
        "Training:"
      ],
      "metadata": {
        "id": "a18_g4ZSjILr"
      }
    },
    {
      "cell_type": "code",
      "source": [
        "# Entrenamos el modelo\n",
        "epochs = 20 # número de veces que pasamos sobre el conjunto de aprendizaje\n",
        "\n",
        "#número de ejemplos que procesamos antes de acutalizar los pesos\n",
        "batch_size = 16 \n",
        "\n",
        "# training\n",
        "history=model.fit(encoded_train, y_train_cat, batch_size=batch_size, epochs=epochs, validation_data=(encoded_val, y_val_cat), callbacks=[earlyStopping])\n"
      ],
      "metadata": {
        "colab": {
          "base_uri": "https://localhost:8080/"
        },
        "id": "N4ERPC_9jJtt",
        "outputId": "79465a89-3ba6-49b8-aa93-849ce2019271"
      },
      "execution_count": 9,
      "outputs": [
        {
          "output_type": "stream",
          "name": "stdout",
          "text": [
            "Epoch 1/20\n",
            "57/57 [==============================] - 46s 776ms/step - loss: 1.2376 - accuracy: 0.4967 - val_loss: 1.3872 - val_accuracy: 0.3132\n",
            "Epoch 2/20\n",
            "57/57 [==============================] - 42s 746ms/step - loss: 1.0556 - accuracy: 0.5500 - val_loss: 1.1259 - val_accuracy: 0.4835\n",
            "Epoch 3/20\n",
            "57/57 [==============================] - 44s 775ms/step - loss: 0.5786 - accuracy: 0.7744 - val_loss: 1.0544 - val_accuracy: 0.5824\n",
            "Epoch 4/20\n",
            "57/57 [==============================] - 42s 735ms/step - loss: 0.2311 - accuracy: 0.9233 - val_loss: 1.5091 - val_accuracy: 0.5220\n",
            "Epoch 5/20\n",
            "57/57 [==============================] - 43s 751ms/step - loss: 0.1222 - accuracy: 0.9611 - val_loss: 1.5279 - val_accuracy: 0.5385\n",
            "Epoch 6/20\n",
            "57/57 [==============================] - 43s 750ms/step - loss: 0.0784 - accuracy: 0.9844 - val_loss: 2.0025 - val_accuracy: 0.5220\n"
          ]
        }
      ]
    },
    {
      "cell_type": "markdown",
      "source": [
        "Curvas de Aprendizaje:"
      ],
      "metadata": {
        "id": "kLxdx7dEtCFi"
      }
    },
    {
      "cell_type": "code",
      "source": [
        "history_dict = history.history\n",
        "loss_values = history_dict['loss']\n",
        "val_loss_values = history_dict['val_loss']\n",
        "accuracy = history_dict['accuracy']\n",
        "val_accuracy = history_dict['val_accuracy']\n",
        " \n",
        "epochs = range(1, len(loss_values) + 1)\n",
        "fig, ax = plt.subplots(1, 2, figsize=(14, 6))\n",
        "\n",
        "# Plot the model accuracy vs Epochs\n",
        "ax[0].plot(epochs, accuracy, 'b', label='Training accuracy')\n",
        "ax[0].plot(epochs, val_accuracy, 'red', label='Validation accuracy')\n",
        "ax[0].set_title('Training & Validation Accuracy', fontsize=16)\n",
        "ax[0].set_xlabel('Epochs', fontsize=16)\n",
        "ax[0].set_ylabel('Accuracy', fontsize=16)\n",
        "ax[0].legend()\n",
        "\n",
        "# Plot the loss vs Epochs\n",
        "ax[1].plot(epochs, loss_values, 'b', label='Training loss')\n",
        "ax[1].plot(epochs, val_loss_values, 'red', label='Validation loss')\n",
        "ax[1].set_title('Training & Validation Loss', fontsize=16)\n",
        "ax[1].set_xlabel('Epochs', fontsize=16)\n",
        "ax[1].set_ylabel('Loss', fontsize=16)\n",
        "ax[1].legend()"
      ],
      "metadata": {
        "colab": {
          "base_uri": "https://localhost:8080/",
          "height": 428
        },
        "id": "Hl07bHj0tD1z",
        "outputId": "ae23b752-9a50-490f-95e6-1edbcb43b634"
      },
      "execution_count": 11,
      "outputs": [
        {
          "output_type": "execute_result",
          "data": {
            "text/plain": [
              "<matplotlib.legend.Legend at 0x7f959428fc40>"
            ]
          },
          "metadata": {},
          "execution_count": 11
        },
        {
          "output_type": "display_data",
          "data": {
            "text/plain": [
              "<Figure size 1008x432 with 2 Axes>"
            ],
            "image/png": "[encoded data removed]"
          },
          "metadata": {
            "needs_background": "light"
          }
        }
      ]
    },
    {
      "cell_type": "markdown",
      "source": [
        "Evaluación:"
      ],
      "metadata": {
        "id": "X4smwCPEtJes"
      }
    },
    {
      "cell_type": "code",
      "source": [
        "loss, accuracy = model.evaluate(encoded_test, y_test_cat, batch_size=batch_size)\n",
        "\n",
        "y_pred = np.argmax(model.predict(encoded_test), axis=1)\n",
        "print('accuracy:', accuracy_score(y_test, y_pred))\n",
        "\n",
        "print(classification_report(y_test, y_pred, target_names=['0','1','2','3']))\n",
        "\n",
        "cm = confusion_matrix(y_test, y_pred)\n",
        "print(cm)\n",
        "\n",
        "disp = ConfusionMatrixDisplay(confusion_matrix=cm, display_labels=['0','1','2','3'])\n",
        "disp.plot(cmap=plt.cm.Blues,values_format='g')"
      ],
      "metadata": {
        "colab": {
          "base_uri": "https://localhost:8080/",
          "height": 609
        },
        "id": "jYnmc942tK7M",
        "outputId": "989ccc49-b996-4287-d26a-b9a181093d9b"
      },
      "execution_count": 12,
      "outputs": [
        {
          "output_type": "stream",
          "name": "stdout",
          "text": [
            "39/39 [==============================] - 6s 154ms/step - loss: 2.5640 - accuracy: 0.4673\n",
            "20/20 [==============================] - 9s 448ms/step\n",
            "accuracy: 0.4673202614379085\n",
            "              precision    recall  f1-score   support\n",
            "\n",
            "           0       0.57      0.81      0.67       315\n",
            "           1       0.13      0.10      0.11        31\n",
            "           2       0.11      0.20      0.14        56\n",
            "           3       0.44      0.08      0.13       210\n",
            "\n",
            "    accuracy                           0.47       612\n",
            "   macro avg       0.31      0.30      0.26       612\n",
            "weighted avg       0.46      0.47      0.41       612\n",
            "\n",
            "[[256   7  38  14]\n",
            " [ 24   3   2   2]\n",
            " [ 37   4  11   4]\n",
            " [133   9  52  16]]\n"
          ]
        },
        {
          "output_type": "execute_result",
          "data": {
            "text/plain": [
              "<sklearn.metrics._plot.confusion_matrix.ConfusionMatrixDisplay at 0x7f959e371c40>"
            ]
          },
          "metadata": {},
          "execution_count": 12
        },
        {
          "output_type": "display_data",
          "data": {
            "text/plain": [
              "<Figure size 432x288 with 2 Axes>"
            ],
            "image/png": "[encoded data removed]"
          },
          "metadata": {
            "needs_background": "light"
          }
        }
      ]
    }
  ]
}